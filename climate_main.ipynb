{
 "cells": [
  {
   "cell_type": "code",
   "execution_count": 355,
   "metadata": {},
   "outputs": [],
   "source": [
    "%matplotlib inline\n",
    "from matplotlib import style\n",
    "style.use('fivethirtyeight')\n",
    "import matplotlib.pyplot as plt"
   ]
  },
  {
   "cell_type": "code",
   "execution_count": 356,
   "metadata": {},
   "outputs": [],
   "source": [
    "import numpy as np\n",
    "import pandas as pd"
   ]
  },
  {
   "cell_type": "code",
   "execution_count": 357,
   "metadata": {},
   "outputs": [],
   "source": [
    "import datetime as dt\n",
    "import time as strftime"
   ]
  },
  {
   "cell_type": "markdown",
   "metadata": {},
   "source": [
    "# Reflect Tables into SQLAlchemy ORM"
   ]
  },
  {
   "cell_type": "code",
   "execution_count": 358,
   "metadata": {},
   "outputs": [],
   "source": [
    "# Python SQL toolkit and Object Relational Mapper\n",
    "import sqlalchemy\n",
    "from sqlalchemy.ext.automap import automap_base\n",
    "from sqlalchemy.orm import Session\n",
    "from sqlalchemy import create_engine, func"
   ]
  },
  {
   "cell_type": "code",
   "execution_count": 359,
   "metadata": {},
   "outputs": [
    {
     "name": "stdout",
     "output_type": "stream",
     "text": [
      "Enter the start date for your trip to Honolulu in YYYY-MM-DD format: 2017-07-21\n",
      "Enter the end date for your trip to Honolulu in YYYY-MM-DD format: 2017-08-01\n"
     ]
    }
   ],
   "source": [
    "# Choose a start date and end date of the trip. Make sure that your vacation range is approximately 3-15 days total.\n",
    "# Note: There is no data after 2017-08-23. \n",
    "start_date_entry = input('Enter the start date for your trip to Honolulu in YYYY-MM-DD format: ')\n",
    "year, month, day = map(int, start_date_entry.split('-'))\n",
    "trip_start_date = dt.date(year, month, day)\n",
    "\n",
    "end_date_entry = input('Enter the end date for your trip to Honolulu in YYYY-MM-DD format: ')\n",
    "year, month, day = map(int, end_date_entry.split('-'))\n",
    "trip_end_date = dt.date(year, month, day)"
   ]
  },
  {
   "cell_type": "code",
   "execution_count": 360,
   "metadata": {},
   "outputs": [],
   "source": [
    "engine = create_engine(\"sqlite:///Resources/hawaii.sqlite\")"
   ]
  },
  {
   "cell_type": "code",
   "execution_count": 361,
   "metadata": {},
   "outputs": [],
   "source": [
    "# reflect an existing database into a new model\n",
    "Base = automap_base()\n",
    "# reflect the tables\n",
    "Base.prepare(engine, reflect=True)"
   ]
  },
  {
   "cell_type": "code",
   "execution_count": 362,
   "metadata": {},
   "outputs": [
    {
     "data": {
      "text/plain": [
       "['measurement', 'station']"
      ]
     },
     "execution_count": 362,
     "metadata": {},
     "output_type": "execute_result"
    }
   ],
   "source": [
    "# We can view all of the classes that automap found\n",
    "Base.classes.keys()"
   ]
  },
  {
   "cell_type": "code",
   "execution_count": 363,
   "metadata": {},
   "outputs": [],
   "source": [
    "# Save references to each table\n",
    "Measurement = Base.classes.measurement\n",
    "Station = Base.classes.station"
   ]
  },
  {
   "cell_type": "code",
   "execution_count": 364,
   "metadata": {},
   "outputs": [],
   "source": [
    "# Create our session (link) from Python to the DB\n",
    "session = Session(engine)"
   ]
  },
  {
   "cell_type": "code",
   "execution_count": 365,
   "metadata": {},
   "outputs": [
    {
     "data": {
      "text/plain": [
       "{'_sa_instance_state': <sqlalchemy.orm.state.InstanceState at 0x121a91f98>,\n",
       " 'tobs': 65.0,\n",
       " 'date': '2010-01-01',\n",
       " 'station': 'USC00519397',\n",
       " 'prcp': 0.08,\n",
       " 'id': 1}"
      ]
     },
     "execution_count": 365,
     "metadata": {},
     "output_type": "execute_result"
    }
   ],
   "source": [
    "# Display a sample of the row's columns and data in dictionary format for measurement table\n",
    "measurement_first_row = session.query(Measurement).first()\n",
    "measurement_first_row.__dict__"
   ]
  },
  {
   "cell_type": "code",
   "execution_count": 366,
   "metadata": {},
   "outputs": [
    {
     "data": {
      "text/plain": [
       "{'_sa_instance_state': <sqlalchemy.orm.state.InstanceState at 0x12242a438>,\n",
       " 'elevation': 3.0,\n",
       " 'latitude': 21.2716,\n",
       " 'station': 'USC00519397',\n",
       " 'longitude': -157.8168,\n",
       " 'name': 'WAIKIKI 717.2, HI US',\n",
       " 'id': 1}"
      ]
     },
     "execution_count": 366,
     "metadata": {},
     "output_type": "execute_result"
    }
   ],
   "source": [
    "# Display a sample of the row's columns and data in dictionary format for station table\n",
    "station_first_row = session.query(Station).first()\n",
    "station_first_row.__dict__"
   ]
  },
  {
   "cell_type": "markdown",
   "metadata": {},
   "source": [
    "# Exploratory Climate Analysis"
   ]
  },
  {
   "cell_type": "code",
   "execution_count": 367,
   "metadata": {},
   "outputs": [],
   "source": [
    "# Design a query to retrieve the last 12 months of precipitation data and plot the results\n",
    "# Calculate the date 1 year ago from the last data point in the database\n",
    "date_year_ago = trip_end_date - dt.timedelta(365)\n",
    "start_date_year_ago = trip_start_date - dt.timedelta(365)  "
   ]
  },
  {
   "cell_type": "code",
   "execution_count": 369,
   "metadata": {},
   "outputs": [
    {
     "data": {
      "text/plain": [
       "[('2016-08-01', 2.21),\n",
       " ('2016-08-02', 1.14),\n",
       " ('2016-08-03', None),\n",
       " ('2016-08-04', None),\n",
       " ('2016-08-05', None),\n",
       " ('2016-08-06', None),\n",
       " ('2016-08-07', 1.3),\n",
       " ('2016-08-08', 0.02),\n",
       " ('2016-08-09', 0.56),\n",
       " ('2016-08-10', 0.0),\n",
       " ('2016-08-11', 0.04),\n",
       " ('2016-08-12', 0.39),\n",
       " ('2016-08-13', 0.45),\n",
       " ('2016-08-14', 0.75),\n",
       " ('2016-08-15', 0.95),\n",
       " ('2016-08-16', 0.85),\n",
       " ('2016-08-17', 0.3),\n",
       " ('2016-08-18', 0.21),\n",
       " ('2016-08-19', 2.3),\n",
       " ('2016-08-20', 0.2),\n",
       " ('2016-08-21', 1.08),\n",
       " ('2016-08-22', 1.2),\n",
       " ('2016-08-23', 0.7),\n",
       " ('2016-08-24', 1.45),\n",
       " ('2016-08-25', 0.11),\n",
       " ('2016-08-26', 0.01),\n",
       " ('2016-08-27', None),\n",
       " ('2016-08-28', 2.07),\n",
       " ('2016-08-29', 0.9),\n",
       " ('2016-08-30', 0.05),\n",
       " ('2016-08-31', 2.46),\n",
       " ('2016-09-01', 0.01),\n",
       " ('2016-09-02', 0.03),\n",
       " ('2016-09-03', 1.0),\n",
       " ('2016-09-04', 0.44),\n",
       " ('2016-09-05', 0.18),\n",
       " ('2016-09-06', 1.0),\n",
       " ('2016-09-07', 1.35),\n",
       " ('2016-09-08', 0.15),\n",
       " ('2016-09-09', 0.35),\n",
       " ('2016-09-10', 1.16),\n",
       " ('2016-09-11', 0.6),\n",
       " ('2016-09-12', 1.04),\n",
       " ('2016-09-13', 1.2),\n",
       " ('2016-09-14', 6.7),\n",
       " ('2016-09-15', 3.35),\n",
       " ('2016-09-16', 0.61),\n",
       " ('2016-09-17', 0.23),\n",
       " ('2016-09-18', 0.42),\n",
       " ('2016-09-19', 0.25),\n",
       " ('2016-09-20', 0.43),\n",
       " ('2016-09-21', 1.02),\n",
       " ('2016-09-22', 0.75),\n",
       " ('2016-09-23', 0.33),\n",
       " ('2016-09-24', 0.27),\n",
       " ('2016-09-25', 0.04),\n",
       " ('2016-09-26', 1.02),\n",
       " ('2016-09-27', 1.0),\n",
       " ('2016-09-28', 0.05),\n",
       " ('2016-09-29', 1.49),\n",
       " ('2016-09-30', 0.38),\n",
       " ('2016-10-01', 1.02),\n",
       " ('2016-10-02', 0.61),\n",
       " ('2016-10-03', 0.46),\n",
       " ('2016-10-04', 3.46),\n",
       " ('2016-10-05', 0.81),\n",
       " ('2016-10-06', 0.04),\n",
       " ('2016-10-07', 0.01),\n",
       " ('2016-10-08', 0.04),\n",
       " ('2016-10-09', 0.0),\n",
       " ('2016-10-10', 0.0),\n",
       " ('2016-10-11', 0.35),\n",
       " ('2016-10-12', 0.02),\n",
       " ('2016-10-13', 0.06),\n",
       " ('2016-10-14', 0.0),\n",
       " ('2016-10-15', 0.33),\n",
       " ('2016-10-16', 0.0),\n",
       " ('2016-10-17', 0.38),\n",
       " ('2016-10-18', 0.48),\n",
       " ('2016-10-19', 0.0),\n",
       " ('2016-10-20', 1.0),\n",
       " ('2016-10-21', 0.09),\n",
       " ('2016-10-22', 1.37),\n",
       " ('2016-10-23', 0.24),\n",
       " ('2016-10-24', 0.7),\n",
       " ('2016-10-25', 0.4),\n",
       " ('2016-10-26', 0.0),\n",
       " ('2016-10-27', 1.25),\n",
       " ('2016-10-28', 0.37),\n",
       " ('2016-10-29', 0.25),\n",
       " ('2016-10-30', 0.95),\n",
       " ('2016-10-31', 1.35),\n",
       " ('2016-11-01', 0.09),\n",
       " ('2016-11-02', 0.04),\n",
       " ('2016-11-03', 0.02),\n",
       " ('2016-11-04', 0.06),\n",
       " ('2016-11-05', 0.38),\n",
       " ('2016-11-06', 0.05),\n",
       " ('2016-11-07', 0.05),\n",
       " ('2016-11-08', 0.53),\n",
       " ('2016-11-09', 0.04),\n",
       " ('2016-11-10', 0.01),\n",
       " ('2016-11-11', 0.0),\n",
       " ('2016-11-12', 0.0),\n",
       " ('2016-11-13', 0.0),\n",
       " ('2016-11-14', 0.02),\n",
       " ('2016-11-15', 0.05),\n",
       " ('2016-11-16', 0.91),\n",
       " ('2016-11-17', 0.02),\n",
       " ('2016-11-18', 0.0),\n",
       " ('2016-11-19', 0.11),\n",
       " ('2016-11-20', None),\n",
       " ('2016-11-21', 2.87),\n",
       " ('2016-11-22', 2.11),\n",
       " ('2016-11-23', 0.22),\n",
       " ('2016-11-24', 0.72),\n",
       " ('2016-11-25', 1.03),\n",
       " ('2016-11-26', 0.3),\n",
       " ('2016-11-27', 0.29),\n",
       " ('2016-11-28', 0.69),\n",
       " ('2016-11-29', 0.2),\n",
       " ('2016-11-30', 0.79),\n",
       " ('2016-12-01', 0.72),\n",
       " ('2016-12-02', 1.27),\n",
       " ('2016-12-03', 1.62),\n",
       " ('2016-12-04', 0.31),\n",
       " ('2016-12-05', 1.6),\n",
       " ('2016-12-06', 0.0),\n",
       " ('2016-12-07', 0.02),\n",
       " ('2016-12-08', 0.03),\n",
       " ('2016-12-09', 0.42),\n",
       " ('2016-12-10', 0.04),\n",
       " ('2016-12-11', 0.13),\n",
       " ('2016-12-12', 0.01),\n",
       " ('2016-12-13', 0.09),\n",
       " ('2016-12-14', 0.33),\n",
       " ('2016-12-15', 0.03),\n",
       " ('2016-12-16', 0.0),\n",
       " ('2016-12-17', 0.07),\n",
       " ('2016-12-18', None),\n",
       " ('2016-12-19', 0.15),\n",
       " ('2016-12-20', 0.0),\n",
       " ('2016-12-21', 0.55),\n",
       " ('2016-12-22', 1.24),\n",
       " ('2016-12-23', 0.83),\n",
       " ('2016-12-24', 1.08),\n",
       " ('2016-12-25', 0.38),\n",
       " ('2016-12-26', 1.48),\n",
       " ('2016-12-27', 0.14),\n",
       " ('2016-12-28', 0.14),\n",
       " ('2016-12-29', 1.03),\n",
       " ('2016-12-30', 2.37),\n",
       " ('2016-12-31', 0.9),\n",
       " ('2017-01-01', 0.03),\n",
       " ('2017-01-02', 0.0),\n",
       " ('2017-01-03', 0.0),\n",
       " ('2017-01-04', 0.0),\n",
       " ('2017-01-05', 0.47),\n",
       " ('2017-01-06', 0.1),\n",
       " ('2017-01-07', 0.0),\n",
       " ('2017-01-08', 0.03),\n",
       " ('2017-01-09', 0.0),\n",
       " ('2017-01-10', 0.0),\n",
       " ('2017-01-11', 0.0),\n",
       " ('2017-01-12', 0.0),\n",
       " ('2017-01-13', 0.0),\n",
       " ('2017-01-14', 0.0),\n",
       " ('2017-01-15', 0.01),\n",
       " ('2017-01-16', 0.0),\n",
       " ('2017-01-17', 0.0),\n",
       " ('2017-01-18', 0.07),\n",
       " ('2017-01-19', 0.0),\n",
       " ('2017-01-20', 0.0),\n",
       " ('2017-01-21', 0.08),\n",
       " ('2017-01-22', 0.72),\n",
       " ('2017-01-23', 0.85),\n",
       " ('2017-01-24', 1.85),\n",
       " ('2017-01-25', 2.64),\n",
       " ('2017-01-26', 0.1),\n",
       " ('2017-01-27', 0.03),\n",
       " ('2017-01-28', 0.0),\n",
       " ('2017-01-29', 0.55),\n",
       " ('2017-01-30', 0.0),\n",
       " ('2017-01-31', 0.0),\n",
       " ('2017-02-01', 0.0),\n",
       " ('2017-02-02', 0.0),\n",
       " ('2017-02-03', 0.0),\n",
       " ('2017-02-04', None),\n",
       " ('2017-02-05', 0.0),\n",
       " ('2017-02-06', 0.0),\n",
       " ('2017-02-07', 1.79),\n",
       " ('2017-02-08', 0.0),\n",
       " ('2017-02-09', 0.0),\n",
       " ('2017-02-10', 0.0),\n",
       " ('2017-02-11', 0.73),\n",
       " ('2017-02-12', 1.83),\n",
       " ('2017-02-13', 0.0),\n",
       " ('2017-02-14', 0.01),\n",
       " ('2017-02-15', 0.07),\n",
       " ('2017-02-16', 0.13),\n",
       " ('2017-02-17', 0.13),\n",
       " ('2017-02-18', None),\n",
       " ('2017-02-19', 0.1),\n",
       " ('2017-02-20', 0.0),\n",
       " ('2017-02-21', 0.07),\n",
       " ('2017-02-22', 0.32),\n",
       " ('2017-02-23', 0.0),\n",
       " ('2017-02-24', 0.0),\n",
       " ('2017-02-25', 0.12),\n",
       " ('2017-02-26', 0.0),\n",
       " ('2017-02-27', 0.0),\n",
       " ('2017-02-28', 0.58),\n",
       " ('2017-03-01', 2.0),\n",
       " ('2017-03-02', 0.58),\n",
       " ('2017-03-03', 0.56),\n",
       " ('2017-03-04', 0.0),\n",
       " ('2017-03-05', 0.35),\n",
       " ('2017-03-06', 0.0),\n",
       " ('2017-03-07', 0.0),\n",
       " ('2017-03-08', 0.0),\n",
       " ('2017-03-09', 0.01),\n",
       " ('2017-03-10', 0.0),\n",
       " ('2017-03-11', 0.0),\n",
       " ('2017-03-12', 0.0),\n",
       " ('2017-03-13', None),\n",
       " ('2017-03-14', 0.0),\n",
       " ('2017-03-15', 0.0),\n",
       " ('2017-03-16', 0.0),\n",
       " ('2017-03-17', 0.12),\n",
       " ('2017-03-18', None),\n",
       " ('2017-03-19', 0.0),\n",
       " ('2017-03-20', 0.0),\n",
       " ('2017-03-21', 0.0),\n",
       " ('2017-03-22', 0.0),\n",
       " ('2017-03-23', 0.03),\n",
       " ('2017-03-24', 0.17),\n",
       " ('2017-03-25', 0.48),\n",
       " ('2017-03-26', 0.0),\n",
       " ('2017-03-27', 0.0),\n",
       " ('2017-03-28', 0.68),\n",
       " ('2017-03-29', 0.07),\n",
       " ('2017-03-30', 0.04),\n",
       " ('2017-03-31', None),\n",
       " ('2017-04-01', 0.2),\n",
       " ('2017-04-02', 0.0),\n",
       " ('2017-04-03', 0.23),\n",
       " ('2017-04-04', 0.02),\n",
       " ('2017-04-05', 0.45),\n",
       " ('2017-04-06', 0.0),\n",
       " ('2017-04-07', 0.0),\n",
       " ('2017-04-08', None),\n",
       " ('2017-04-09', 0.0),\n",
       " ('2017-04-10', 0.0),\n",
       " ('2017-04-11', 0.25),\n",
       " ('2017-04-12', 0.65),\n",
       " ('2017-04-13', 0.23),\n",
       " ('2017-04-14', 2.82),\n",
       " ('2017-04-15', 0.9),\n",
       " ('2017-04-16', 0.11),\n",
       " ('2017-04-17', 1.3),\n",
       " ('2017-04-18', 0.98),\n",
       " ('2017-04-19', 0.14),\n",
       " ('2017-04-20', 0.0),\n",
       " ('2017-04-21', 1.84),\n",
       " ('2017-04-22', 1.35),\n",
       " ('2017-04-23', 0.35),\n",
       " ('2017-04-24', 0.05),\n",
       " ('2017-04-25', 0.0),\n",
       " ('2017-04-26', 0.22),\n",
       " ('2017-04-27', 0.11),\n",
       " ('2017-04-28', 0.79),\n",
       " ('2017-04-29', 0.0),\n",
       " ('2017-04-30', 0.8),\n",
       " ('2017-05-01', 0.25),\n",
       " ('2017-05-02', 0.0),\n",
       " ('2017-05-03', 0.01),\n",
       " ('2017-05-04', None),\n",
       " ('2017-05-05', 0.1),\n",
       " ('2017-05-06', 0.0),\n",
       " ('2017-05-07', 0.03),\n",
       " ('2017-05-08', 1.11),\n",
       " ('2017-05-09', 0.23),\n",
       " ('2017-05-10', 0.55),\n",
       " ('2017-05-11', 0.44),\n",
       " ('2017-05-12', 0.1),\n",
       " ('2017-05-13', 0.1),\n",
       " ('2017-05-14', 1.0),\n",
       " ('2017-05-15', 0.6),\n",
       " ('2017-05-16', 0.3),\n",
       " ('2017-05-17', 0.06),\n",
       " ('2017-05-18', 0.0),\n",
       " ('2017-05-19', 0.01),\n",
       " ('2017-05-20', None),\n",
       " ('2017-05-21', 0.0),\n",
       " ('2017-05-22', 0.3),\n",
       " ('2017-05-23', 0.44),\n",
       " ('2017-05-24', 2.17),\n",
       " ('2017-05-25', 0.88),\n",
       " ('2017-05-26', 0.0),\n",
       " ('2017-05-27', 0.5),\n",
       " ('2017-05-28', 0.0),\n",
       " ('2017-05-29', 0.4),\n",
       " ('2017-05-30', None),\n",
       " ('2017-05-31', 0.25),\n",
       " ('2017-06-01', 0.01),\n",
       " ('2017-06-02', 0.09),\n",
       " ('2017-06-03', None),\n",
       " ('2017-06-04', 0.82),\n",
       " ('2017-06-05', 0.01),\n",
       " ('2017-06-06', 0.0),\n",
       " ('2017-06-07', 0.01),\n",
       " ('2017-06-08', 0.0),\n",
       " ('2017-06-09', 0.02),\n",
       " ('2017-06-10', None),\n",
       " ('2017-06-11', 0.7),\n",
       " ('2017-06-12', 0.81),\n",
       " ('2017-06-13', 0.65),\n",
       " ('2017-06-14', 0.81),\n",
       " ('2017-06-15', 1.69),\n",
       " ('2017-06-16', 0.1),\n",
       " ('2017-06-17', 0.1),\n",
       " ('2017-06-18', 0.7),\n",
       " ('2017-06-19', 0.4),\n",
       " ('2017-06-20', 0.31),\n",
       " ('2017-06-21', 0.3),\n",
       " ('2017-06-22', 0.28),\n",
       " ('2017-06-23', 0.5),\n",
       " ('2017-06-24', 0.22),\n",
       " ('2017-06-25', 0.5),\n",
       " ('2017-06-26', 0.02),\n",
       " ('2017-06-27', 0.1),\n",
       " ('2017-06-28', 0.02),\n",
       " ('2017-06-29', 0.04),\n",
       " ('2017-06-30', 0.2),\n",
       " ('2017-07-01', 0.1),\n",
       " ('2017-07-02', 0.5),\n",
       " ('2017-07-03', 0.4),\n",
       " ('2017-07-04', 0.0),\n",
       " ('2017-07-05', 0.0),\n",
       " ('2017-07-06', 0.02),\n",
       " ('2017-07-07', 0.3),\n",
       " ('2017-07-08', 0.02),\n",
       " ('2017-07-09', 0.0),\n",
       " ('2017-07-10', 0.02),\n",
       " ('2017-07-11', 0.0),\n",
       " ('2017-07-12', 0.05),\n",
       " ('2017-07-13', 0.68),\n",
       " ('2017-07-14', 0.68),\n",
       " ('2017-07-15', 0.1),\n",
       " ('2017-07-16', 0.5),\n",
       " ('2017-07-17', 0.39),\n",
       " ('2017-07-18', 2.4),\n",
       " ('2017-07-19', 0.27),\n",
       " ('2017-07-20', 0.7),\n",
       " ('2017-07-21', 0.1),\n",
       " ('2017-07-22', 4.0),\n",
       " ('2017-07-23', 0.8),\n",
       " ('2017-07-24', 0.84),\n",
       " ('2017-07-25', 0.3),\n",
       " ('2017-07-26', 0.3),\n",
       " ('2017-07-27', 0.0),\n",
       " ('2017-07-28', 0.4),\n",
       " ('2017-07-29', 0.3),\n",
       " ('2017-07-30', 0.3),\n",
       " ('2017-07-31', 0.0),\n",
       " ('2017-08-01', None)]"
      ]
     },
     "execution_count": 369,
     "metadata": {},
     "output_type": "execute_result"
    }
   ],
   "source": [
    "# Perform a query to retrieve the data and precipitation scores\n",
    "precipitation = session.query(Measurement.date, Measurement.prcp).filter(Measurement.date <= trip_end_date, Measurement.date >= date_year_ago).\\\n",
    "                group_by(Measurement.date).all()\n",
    "precipitation"
   ]
  },
  {
   "cell_type": "code",
   "execution_count": 370,
   "metadata": {},
   "outputs": [
    {
     "data": {
      "text/html": [
       "<div>\n",
       "<style scoped>\n",
       "    .dataframe tbody tr th:only-of-type {\n",
       "        vertical-align: middle;\n",
       "    }\n",
       "\n",
       "    .dataframe tbody tr th {\n",
       "        vertical-align: top;\n",
       "    }\n",
       "\n",
       "    .dataframe thead th {\n",
       "        text-align: right;\n",
       "    }\n",
       "</style>\n",
       "<table border=\"1\" class=\"dataframe\">\n",
       "  <thead>\n",
       "    <tr style=\"text-align: right;\">\n",
       "      <th></th>\n",
       "      <th>precipitation</th>\n",
       "    </tr>\n",
       "    <tr>\n",
       "      <th>date</th>\n",
       "      <th></th>\n",
       "    </tr>\n",
       "  </thead>\n",
       "  <tbody>\n",
       "    <tr>\n",
       "      <th>2016-08-01</th>\n",
       "      <td>2.21</td>\n",
       "    </tr>\n",
       "    <tr>\n",
       "      <th>2016-08-02</th>\n",
       "      <td>1.14</td>\n",
       "    </tr>\n",
       "    <tr>\n",
       "      <th>2016-08-03</th>\n",
       "      <td>NaN</td>\n",
       "    </tr>\n",
       "    <tr>\n",
       "      <th>2016-08-04</th>\n",
       "      <td>NaN</td>\n",
       "    </tr>\n",
       "    <tr>\n",
       "      <th>2016-08-05</th>\n",
       "      <td>NaN</td>\n",
       "    </tr>\n",
       "  </tbody>\n",
       "</table>\n",
       "</div>"
      ],
      "text/plain": [
       "            precipitation\n",
       "date                     \n",
       "2016-08-01           2.21\n",
       "2016-08-02           1.14\n",
       "2016-08-03            NaN\n",
       "2016-08-04            NaN\n",
       "2016-08-05            NaN"
      ]
     },
     "execution_count": 370,
     "metadata": {},
     "output_type": "execute_result"
    }
   ],
   "source": [
    "# Save the query results as a Pandas DataFrame and set the index to the date column\n",
    "# Sort the dataframe by date\n",
    "precipitation_df = pd.DataFrame(precipitation, columns=[\"date\", \"precipitation\"])\n",
    "precipitation_df.set_index('date', inplace=True)\n",
    "precipitation_df.sort_values(by='date')\n",
    "precipitation_df.head()"
   ]
  },
  {
   "cell_type": "code",
   "execution_count": 371,
   "metadata": {},
   "outputs": [
    {
     "data": {
      "image/png": "[encoded data removed]",
      "text/plain": [
       "<Figure size 432x288 with 1 Axes>"
      ]
     },
     "metadata": {},
     "output_type": "display_data"
    }
   ],
   "source": [
    "# Use Pandas Plotting with Matplotlib to plot the data\n",
    "# Plot the dataframe as a chart using pandas plotting\n",
    "precipitation_df.plot()\n",
    "plt.tight_layout()\n",
    "plt.show()"
   ]
  },
  {
   "cell_type": "code",
   "execution_count": 372,
   "metadata": {},
   "outputs": [
    {
     "data": {
      "text/html": [
       "<div>\n",
       "<style scoped>\n",
       "    .dataframe tbody tr th:only-of-type {\n",
       "        vertical-align: middle;\n",
       "    }\n",
       "\n",
       "    .dataframe tbody tr th {\n",
       "        vertical-align: top;\n",
       "    }\n",
       "\n",
       "    .dataframe thead th {\n",
       "        text-align: right;\n",
       "    }\n",
       "</style>\n",
       "<table border=\"1\" class=\"dataframe\">\n",
       "  <thead>\n",
       "    <tr style=\"text-align: right;\">\n",
       "      <th></th>\n",
       "      <th>precipitation</th>\n",
       "    </tr>\n",
       "  </thead>\n",
       "  <tbody>\n",
       "    <tr>\n",
       "      <th>count</th>\n",
       "      <td>347.000000</td>\n",
       "    </tr>\n",
       "    <tr>\n",
       "      <th>mean</th>\n",
       "      <td>0.458703</td>\n",
       "    </tr>\n",
       "    <tr>\n",
       "      <th>std</th>\n",
       "      <td>0.720159</td>\n",
       "    </tr>\n",
       "    <tr>\n",
       "      <th>min</th>\n",
       "      <td>0.000000</td>\n",
       "    </tr>\n",
       "    <tr>\n",
       "      <th>25%</th>\n",
       "      <td>0.010000</td>\n",
       "    </tr>\n",
       "    <tr>\n",
       "      <th>50%</th>\n",
       "      <td>0.180000</td>\n",
       "    </tr>\n",
       "    <tr>\n",
       "      <th>75%</th>\n",
       "      <td>0.680000</td>\n",
       "    </tr>\n",
       "    <tr>\n",
       "      <th>max</th>\n",
       "      <td>6.700000</td>\n",
       "    </tr>\n",
       "  </tbody>\n",
       "</table>\n",
       "</div>"
      ],
      "text/plain": [
       "       precipitation\n",
       "count     347.000000\n",
       "mean        0.458703\n",
       "std         0.720159\n",
       "min         0.000000\n",
       "25%         0.010000\n",
       "50%         0.180000\n",
       "75%         0.680000\n",
       "max         6.700000"
      ]
     },
     "execution_count": 372,
     "metadata": {},
     "output_type": "execute_result"
    }
   ],
   "source": [
    "# Use Pandas to calcualte the summary statistics for the precipitation data\n",
    "precipitation_df.describe()"
   ]
  },
  {
   "cell_type": "code",
   "execution_count": 373,
   "metadata": {},
   "outputs": [
    {
     "data": {
      "text/plain": [
       "9"
      ]
     },
     "execution_count": 373,
     "metadata": {},
     "output_type": "execute_result"
    }
   ],
   "source": [
    "# Design a query to show how many stations are available in this dataset?\n",
    "number_of_stations = session.query(Station.station).count()\n",
    "number_of_stations"
   ]
  },
  {
   "cell_type": "code",
   "execution_count": 374,
   "metadata": {},
   "outputs": [
    {
     "data": {
      "text/plain": [
       "[('USC00519281', 2772),\n",
       " ('USC00519397', 2724),\n",
       " ('USC00513117', 2709),\n",
       " ('USC00519523', 2669),\n",
       " ('USC00516128', 2612),\n",
       " ('USC00514830', 2202),\n",
       " ('USC00511918', 1979),\n",
       " ('USC00517948', 1372),\n",
       " ('USC00518838', 511)]"
      ]
     },
     "execution_count": 374,
     "metadata": {},
     "output_type": "execute_result"
    }
   ],
   "source": [
    "# What are the most active stations? (i.e. what stations have the most rows)?\n",
    "# List the stations and the counts in descending order.\n",
    "stations_counts = session.query(Measurement.station,func.count(Measurement.station)).group_by(Measurement.station).order_by(func.count(Measurement.station).desc()).all()\n",
    "stations_counts"
   ]
  },
  {
   "cell_type": "code",
   "execution_count": 375,
   "metadata": {},
   "outputs": [
    {
     "name": "stdout",
     "output_type": "stream",
     "text": [
      "The most active station is USC00519281 with 2772 obrservations.\n"
     ]
    }
   ],
   "source": [
    "# Station that has the highest number of observations\n",
    "most_active = stations_counts[0][0]\n",
    "number_of_observations = stations_counts[0][1]\n",
    "print('The most active station is {} with {} obrservations.'.format(most_active, number_of_observations))"
   ]
  },
  {
   "cell_type": "code",
   "execution_count": 376,
   "metadata": {},
   "outputs": [
    {
     "data": {
      "text/plain": [
       "[(54.0, 85.0, 71.66378066378067)]"
      ]
     },
     "execution_count": 376,
     "metadata": {},
     "output_type": "execute_result"
    }
   ],
   "source": [
    "# Using the station id from the previous query, calculate the lowest temperature recorded, \n",
    "# highest temperature recorded, and average temperature most active station?\n",
    "temperature_most_active = session.query(func.min(Measurement.tobs), func.max(Measurement.tobs), func.avg(Measurement.tobs)).\\\n",
    "                filter(Measurement.station == most_active).all()\n",
    "temperature_most_active"
   ]
  },
  {
   "cell_type": "code",
   "execution_count": 377,
   "metadata": {},
   "outputs": [
    {
     "data": {
      "image/png": "[encoded data removed]",
      "text/plain": [
       "<Figure size 432x288 with 1 Axes>"
      ]
     },
     "metadata": {},
     "output_type": "display_data"
    }
   ],
   "source": [
    "# Choose the station with the highest number of temperature observations.\n",
    "# Query the last 12 months of temperature observation data for this station and plot the results as a histogram\n",
    "last12_tobs = session.query(Measurement.date, Measurement.tobs).filter(Measurement.date >= date_year_ago, Measurement.station == most_active).all()\n",
    "last12_tobs_df = pd.DataFrame(last12_tobs, columns = ['date', 'tobs'])\n",
    "last12_tobs_df.iloc[::-1].plot.hist(bins = 12)\n",
    "plt.ylabel('Frequency')\n",
    "plt.xlabel('Temp(F)')\n",
    "plt.tight_layout()\n",
    "plt.show()"
   ]
  },
  {
   "cell_type": "code",
   "execution_count": 378,
   "metadata": {},
   "outputs": [
    {
     "name": "stdout",
     "output_type": "stream",
     "text": [
      "[(62.0, 69.57142857142857, 74.0)]\n"
     ]
    }
   ],
   "source": [
    "# This function called `calc_temps` will accept start date and end date in the format '%Y-%m-%d' \n",
    "# and return the minimum, average, and maximum temperatures for that range of dates\n",
    "def calc_temps(start_date, end_date):\n",
    "    \"\"\"TMIN, TAVG, and TMAX for a list of dates.\n",
    "    \n",
    "    Args:\n",
    "        start_date (string): A date string in the format %Y-%m-%d\n",
    "        end_date (string): A date string in the format %Y-%m-%d\n",
    "        \n",
    "    Returns:\n",
    "        TMIN, TAVE, and TMAX\n",
    "    \"\"\"\n",
    "    \n",
    "    return session.query(func.min(Measurement.tobs), func.avg(Measurement.tobs), func.max(Measurement.tobs)).\\\n",
    "        filter(Measurement.date >= start_date).filter(Measurement.date <= end_date).all()\n",
    "\n",
    "# function usage example\n",
    "print(calc_temps('2012-02-28', '2012-03-05'))"
   ]
  },
  {
   "cell_type": "code",
   "execution_count": 379,
   "metadata": {},
   "outputs": [
    {
     "data": {
      "image/png": "[encoded data removed]",
      "text/plain": [
       "<Figure size 216x576 with 1 Axes>"
      ]
     },
     "metadata": {},
     "output_type": "display_data"
    },
    {
     "name": "stdout",
     "output_type": "stream",
     "text": [
      "[(73.0, 77.91044776119404, 83.0)]\n"
     ]
    }
   ],
   "source": [
    "# Use your previous function `calc_temps` to calculate the tmin, tavg, and tmax \n",
    "# for your trip using the previous year's data for those same dates.\n",
    "def calc_temps(start_date, end_date):\n",
    "     trip_temp = session.query(func.min(Measurement.tobs), func.avg(Measurement.tobs), func.max(Measurement.tobs)).\\\n",
    "        filter(Measurement.date >= start_date).filter(Measurement.date <= end_date).all()\n",
    "     tmin = trip_temp[0][0]                     \n",
    "     tavg = trip_temp[0][1]\n",
    "     tmax = trip_temp[0][2]\n",
    "         \n",
    "     # Plot the results from your previous query as a bar chart. \n",
    "     # Use \"Trip Avg Temp\" as your Title\n",
    "     # Use the average temperature for the y value\n",
    "     # Use the peak-to-peak (tmax-tmin) value as the y error bar (yerr)\n",
    "     \n",
    "     plt.figure(figsize=(3,8))\n",
    "     plt.bar(1, tavg, yerr= tmax - tmin, tick_label=\"\", color = 'coral', alpha = 0.5)\n",
    "     plt.title('Trip Avg Temp')\n",
    "     plt.ylabel('Temp(F)')\n",
    "     plt.show()\n",
    "     \n",
    "     return trip_temp\n",
    "\n",
    "print(calc_temps('2016-07-21', '2016-08-01'))\n"
   ]
  },
  {
   "cell_type": "code",
   "execution_count": 380,
   "metadata": {},
   "outputs": [
    {
     "name": "stdout",
     "output_type": "stream",
     "text": [
      "[('USC00519281', 'WAIHEE 837.5, HI US', 21.45167, -157.84888999999998, 32.9, 14.92), ('USC00516128', 'MANOA LYON ARBO 785.2, HI US', 21.3331, -157.8025, 152.4, 13.73), ('USC00513117', 'KANEOHE 838.1, HI US', 21.4234, -157.8015, 14.6, 10.51), ('USC00519523', 'WAIMANALO EXPERIMENTAL FARM, HI US', 21.33556, -157.71139, 19.5, 4.66), ('USC00519397', 'WAIKIKI 717.2, HI US', 21.2716, -157.8168, 3.0, 4.53), ('USC00514830', 'KUALOA RANCH HEADQUARTERS 886.9, HI US', 21.5213, -157.8374, 7.0, 0.060000000000000005), ('USC00517948', 'PEARL CITY, HI US', 21.3934, -157.9751, 11.9, 0.01)]\n"
     ]
    }
   ],
   "source": [
    "# Calculate the rainfall per weather station for your trip dates using the previous year's matching dates.\n",
    "# Sort this in descending order by precipitation amount and list the station, name, latitude, longitude, and elevation\n",
    "trip_prcp = session.query(Station.station, Station.name, Station.latitude, Station.longitude, Station.elevation,func.sum(Measurement.prcp))\\\n",
    "            .filter(Measurement.station == Station.station)\\\n",
    "            .filter(Measurement.date >= start_date_year_ago)\\\n",
    "            .filter(Measurement.date <= date_year_ago)\\\n",
    "            .group_by(Station.station)\\\n",
    "            .order_by(func.sum(Measurement.prcp).desc()).all()\n",
    "                         \n",
    "print(trip_prcp)"
   ]
  },
  {
   "cell_type": "markdown",
   "metadata": {},
   "source": [
    "## Optional Challenge Assignment"
   ]
  },
  {
   "cell_type": "code",
   "execution_count": 381,
   "metadata": {},
   "outputs": [
    {
     "data": {
      "text/plain": [
       "[(69.0, 76.9245283018868, 83.0)]"
      ]
     },
     "execution_count": 381,
     "metadata": {},
     "output_type": "execute_result"
    }
   ],
   "source": [
    "# Create a query that will calculate the daily normals \n",
    "# (i.e. the averages for tmin, tmax, and tavg for all historic data matching a specific month and day)\n",
    "\n",
    "def daily_normals(date):\n",
    "    \"\"\"Daily Normals.\n",
    "    \n",
    "    Args:\n",
    "        date (str): A date string in the format '%m-%d'\n",
    "        \n",
    "    Returns:\n",
    "        A list of tuples containing the daily normals, tmin, tavg, and tmax\n",
    "    \n",
    "    \"\"\"\n",
    "    \n",
    "    sel = [func.min(Measurement.tobs), func.avg(Measurement.tobs), func.max(Measurement.tobs)]\n",
    "    return session.query(*sel).filter(func.strftime(\"%m-%d\", Measurement.date) == date).all()\n",
    "\n",
    "daily_normals(\"07-21\")"
   ]
  },
  {
   "cell_type": "code",
   "execution_count": 382,
   "metadata": {},
   "outputs": [],
   "source": [
    "# calculate the daily normals for your trip\n",
    "def daily_normals(date):\n",
    "    sel = [func.min(Measurement.tobs), func.avg(Measurement.tobs), func.max(Measurement.tobs)]\n",
    "    [(tmin,tavg,tmax)] = session.query(*sel).filter(func.strftime(\"%m-%d\", Measurement.date) == date).all()\n",
    "  \n",
    "    return tmin,tavg,tmax"
   ]
  },
  {
   "cell_type": "code",
   "execution_count": 383,
   "metadata": {},
   "outputs": [
    {
     "data": {
      "text/plain": [
       "[{'date': '07-21', 'tmax': 69.0, 'tmin': 76.9245283018868, 'tavg': 83.0},\n",
       " {'date': '07-22', 'tmax': 69.0, 'tmin': 75.78846153846153, 'tavg': 81.0},\n",
       " {'date': '07-23', 'tmax': 70.0, 'tmin': 76.20370370370371, 'tavg': 84.0},\n",
       " {'date': '07-24', 'tmax': 69.0, 'tmin': 76.55555555555556, 'tavg': 81.0},\n",
       " {'date': '07-25', 'tmax': 67.0, 'tmin': 76.89090909090909, 'tavg': 84.0},\n",
       " {'date': '07-26', 'tmax': 71.0, 'tmin': 76.4423076923077, 'tavg': 86.0},\n",
       " {'date': '07-27', 'tmax': 68.0, 'tmin': 76.58181818181818, 'tavg': 83.0},\n",
       " {'date': '07-28', 'tmax': 69.0, 'tmin': 76.46428571428571, 'tavg': 82.0},\n",
       " {'date': '07-29', 'tmax': 69.0, 'tmin': 76.47058823529412, 'tavg': 83.0},\n",
       " {'date': '07-30', 'tmax': 69.0, 'tmin': 77.35185185185185, 'tavg': 84.0},\n",
       " {'date': '07-31', 'tmax': 72.0, 'tmin': 77.03571428571429, 'tavg': 83.0},\n",
       " {'date': '08-01', 'tmax': 67.0, 'tmin': 75.54, 'tavg': 83.0},\n",
       " {'date': '07-21', 'tmax': 69.0, 'tmin': 76.9245283018868, 'tavg': 83.0},\n",
       " {'date': '07-22', 'tmax': 69.0, 'tmin': 75.78846153846153, 'tavg': 81.0},\n",
       " {'date': '07-23', 'tmax': 70.0, 'tmin': 76.20370370370371, 'tavg': 84.0},\n",
       " {'date': '07-24', 'tmax': 69.0, 'tmin': 76.55555555555556, 'tavg': 81.0},\n",
       " {'date': '07-25', 'tmax': 67.0, 'tmin': 76.89090909090909, 'tavg': 84.0},\n",
       " {'date': '07-26', 'tmax': 71.0, 'tmin': 76.4423076923077, 'tavg': 86.0},\n",
       " {'date': '07-27', 'tmax': 68.0, 'tmin': 76.58181818181818, 'tavg': 83.0},\n",
       " {'date': '07-28', 'tmax': 69.0, 'tmin': 76.46428571428571, 'tavg': 82.0},\n",
       " {'date': '07-29', 'tmax': 69.0, 'tmin': 76.47058823529412, 'tavg': 83.0},\n",
       " {'date': '07-30', 'tmax': 69.0, 'tmin': 77.35185185185185, 'tavg': 84.0},\n",
       " {'date': '07-31', 'tmax': 72.0, 'tmin': 77.03571428571429, 'tavg': 83.0},\n",
       " {'date': '08-01', 'tmax': 67.0, 'tmin': 75.54, 'tavg': 83.0}]"
      ]
     },
     "execution_count": 383,
     "metadata": {},
     "output_type": "execute_result"
    }
   ],
   "source": [
    "# Push each tuple of calculations into a list called `normals`\n",
    "# Set the start and end date of the trip\n",
    "start = trip_start_date\n",
    "\n",
    "# Use the start and end date to create a range of dates\n",
    "tdelta = dt.timedelta(days=1)\n",
    "date_range = []\n",
    "while start <= trip_end_date:\n",
    "    date_range.append(start)\n",
    "    start += tdelta\n",
    "\n",
    "# Strip off the year and save a list of %m-%d strings\n",
    "month_day_range = []\n",
    "for everydate in date_range:\n",
    "    month = everydate.strftime('%m')\n",
    "    day = everydate.strftime('%d')\n",
    "    month_day_range.append(month +'-'+ day)\n",
    "\n",
    "# Loop through the list of %m-%d strings and calculate the normals for each date\n",
    "normals = []\n",
    "for month_day in month_day_range:\n",
    "        tmax,tmin,tavg = daily_normals(month_day)\n",
    "        normals.append({\"date\": month_day, \"tmax\": tmax, \"tmin\": tmin, \"tavg\":tavg})\n",
    "temp_ranges"
   ]
  },
  {
   "cell_type": "code",
   "execution_count": 384,
   "metadata": {},
   "outputs": [
    {
     "data": {
      "text/html": [
       "<div>\n",
       "<style scoped>\n",
       "    .dataframe tbody tr th:only-of-type {\n",
       "        vertical-align: middle;\n",
       "    }\n",
       "\n",
       "    .dataframe tbody tr th {\n",
       "        vertical-align: top;\n",
       "    }\n",
       "\n",
       "    .dataframe thead th {\n",
       "        text-align: right;\n",
       "    }\n",
       "</style>\n",
       "<table border=\"1\" class=\"dataframe\">\n",
       "  <thead>\n",
       "    <tr style=\"text-align: right;\">\n",
       "      <th></th>\n",
       "      <th>tavg</th>\n",
       "      <th>tmax</th>\n",
       "      <th>tmin</th>\n",
       "    </tr>\n",
       "    <tr>\n",
       "      <th>date</th>\n",
       "      <th></th>\n",
       "      <th></th>\n",
       "      <th></th>\n",
       "    </tr>\n",
       "  </thead>\n",
       "  <tbody>\n",
       "    <tr>\n",
       "      <th>07-21</th>\n",
       "      <td>83.0</td>\n",
       "      <td>69.0</td>\n",
       "      <td>76.924528</td>\n",
       "    </tr>\n",
       "    <tr>\n",
       "      <th>07-22</th>\n",
       "      <td>81.0</td>\n",
       "      <td>69.0</td>\n",
       "      <td>75.788462</td>\n",
       "    </tr>\n",
       "    <tr>\n",
       "      <th>07-23</th>\n",
       "      <td>84.0</td>\n",
       "      <td>70.0</td>\n",
       "      <td>76.203704</td>\n",
       "    </tr>\n",
       "    <tr>\n",
       "      <th>07-24</th>\n",
       "      <td>81.0</td>\n",
       "      <td>69.0</td>\n",
       "      <td>76.555556</td>\n",
       "    </tr>\n",
       "    <tr>\n",
       "      <th>07-25</th>\n",
       "      <td>84.0</td>\n",
       "      <td>67.0</td>\n",
       "      <td>76.890909</td>\n",
       "    </tr>\n",
       "  </tbody>\n",
       "</table>\n",
       "</div>"
      ],
      "text/plain": [
       "       tavg  tmax       tmin\n",
       "date                        \n",
       "07-21  83.0  69.0  76.924528\n",
       "07-22  81.0  69.0  75.788462\n",
       "07-23  84.0  70.0  76.203704\n",
       "07-24  81.0  69.0  76.555556\n",
       "07-25  84.0  67.0  76.890909"
      ]
     },
     "execution_count": 384,
     "metadata": {},
     "output_type": "execute_result"
    }
   ],
   "source": [
    "# Load the previous query results into a Pandas DataFrame and add the `trip_dates` range as the `date` index\n",
    "normals_df = pd.DataFrame(normals)\n",
    "normals_df.set_index('date', inplace=True)\n",
    "normals_df.head()"
   ]
  },
  {
   "cell_type": "code",
   "execution_count": 385,
   "metadata": {},
   "outputs": [
    {
     "data": {
      "image/png": "[encoded data removed]",
      "text/plain": [
       "<Figure size 720x432 with 1 Axes>"
      ]
     },
     "metadata": {},
     "output_type": "display_data"
    }
   ],
   "source": [
    "# Plot the daily normals as an area plot with `stacked=False`\n",
    "normals_df.plot(figsize=(10,6), rot=45, kind='area', stacked=False, alpha=0.5, colormap='Paired')\n",
    "plt.show()"
   ]
  }
 ],
 "metadata": {
  "kernel_info": {
   "name": "python3"
  },
  "kernelspec": {
   "display_name": "Python 3",
   "language": "python",
   "name": "python3"
  },
  "language_info": {
   "codemirror_mode": {
    "name": "ipython",
    "version": 3
   },
   "file_extension": ".py",
   "mimetype": "text/x-python",
   "name": "python",
   "nbconvert_exporter": "python",
   "pygments_lexer": "ipython3",
   "version": "3.6.6"
  },
  "nteract": {
   "version": "0.9.1"
  },
  "varInspector": {
   "cols": {
    "lenName": 16,
    "lenType": 16,
    "lenVar": 40
   },
   "kernels_config": {
    "python": {
     "delete_cmd_postfix": "",
     "delete_cmd_prefix": "del ",
     "library": "var_list.py",
     "varRefreshCmd": "print(var_dic_list())"
    },
    "r": {
     "delete_cmd_postfix": ") ",
     "delete_cmd_prefix": "rm(",
     "library": "var_list.r",
     "varRefreshCmd": "cat(var_dic_list()) "
    }
   },
   "types_to_exclude": [
    "module",
    "function",
    "builtin_function_or_method",
    "instance",
    "_Feature"
   ],
   "window_display": false
  }
 },
 "nbformat": 4,
 "nbformat_minor": 2
}
